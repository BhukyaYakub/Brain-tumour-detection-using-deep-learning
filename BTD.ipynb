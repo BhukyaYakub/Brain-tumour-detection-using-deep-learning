{
 "cells": [
  {
   "cell_type": "code",
   "execution_count": 1,
   "metadata": {},
   "outputs": [
    {
     "name": "stderr",
     "output_type": "stream",
     "text": [
      "Using TensorFlow backend.\n"
     ]
    }
   ],
   "source": [
    "import tensorflow as tf\n",
    "import keras\n",
    "from keras.models import Sequential\n",
    "from keras.layers import Conv2D\n",
    "from keras.layers import MaxPooling2D\n",
    "from keras.layers import Flatten\n",
    "from keras.layers import Dense"
   ]
  },
  {
   "cell_type": "markdown",
   "metadata": {},
   "source": [
    "#nueral\n",
    "\n",
    "cnn---->convolutional neural networks\n",
    "\n",
    "conda install tensorflow python=3.7\n",
    "\n",
    "conda install pip\n",
    "\n",
    "pip3 install --upgrade tensorflow\n",
    "\n",
    "conda install keras"
   ]
  },
  {
   "cell_type": "code",
   "execution_count": 2,
   "metadata": {},
   "outputs": [],
   "source": [
    "classifier = Sequential()\n",
    "\n",
    "classifier.add(Conv2D(32, (3, 3), input_shape = (64, 64, 3), activation = 'relu'))"
   ]
  },
  {
   "cell_type": "code",
   "execution_count": 3,
   "metadata": {},
   "outputs": [
    {
     "name": "stdout",
     "output_type": "stream",
     "text": [
      "Model: \"sequential_1\"\n",
      "_________________________________________________________________\n",
      "Layer (type)                 Output Shape              Param #   \n",
      "=================================================================\n",
      "conv2d_1 (Conv2D)            (None, 62, 62, 32)        896       \n",
      "_________________________________________________________________\n",
      "max_pooling2d_1 (MaxPooling2 (None, 31, 31, 32)        0         \n",
      "_________________________________________________________________\n",
      "conv2d_2 (Conv2D)            (None, 29, 29, 32)        9248      \n",
      "_________________________________________________________________\n",
      "max_pooling2d_2 (MaxPooling2 (None, 14, 14, 32)        0         \n",
      "_________________________________________________________________\n",
      "flatten_1 (Flatten)          (None, 6272)              0         \n",
      "_________________________________________________________________\n",
      "dense_1 (Dense)              (None, 128)               802944    \n",
      "_________________________________________________________________\n",
      "dense_2 (Dense)              (None, 1)                 129       \n",
      "=================================================================\n",
      "Total params: 813,217\n",
      "Trainable params: 813,217\n",
      "Non-trainable params: 0\n",
      "_________________________________________________________________\n"
     ]
    }
   ],
   "source": [
    "classifier.add(MaxPooling2D(pool_size = (2, 2)))\n",
    "\n",
    "classifier.add(Conv2D(32, (3, 3), activation = 'relu'))\n",
    "classifier.add(MaxPooling2D(pool_size = (2, 2)))\n",
    "\n",
    "classifier.add(Flatten())\n",
    "\n",
    "classifier.add(Dense(activation = 'relu',units=128))\n",
    "classifier.add(Dense(activation = 'sigmoid',units=1))\n",
    "\n",
    "classifier.compile(optimizer = 'adam', loss = 'binary_crossentropy', metrics = ['accuracy'])\n",
    "\n",
    "classifier.summary()"
   ]
  },
  {
   "cell_type": "code",
   "execution_count": 4,
   "metadata": {},
   "outputs": [],
   "source": [
    "from keras.preprocessing.image import ImageDataGenerator\n",
    "\n",
    "train_datagen = ImageDataGenerator(rescale = 1./255,\n",
    "                                   shear_range = 0.2,\n",
    "                                   zoom_range = 0.2,\n",
    "                                   horizontal_flip = True)\n",
    "\n",
    "test_datagen = ImageDataGenerator(rescale = 1./255)"
   ]
  },
  {
   "cell_type": "code",
   "execution_count": 5,
   "metadata": {},
   "outputs": [
    {
     "name": "stdout",
     "output_type": "stream",
     "text": [
      "C:\\Users\\YAKUB\\Desktop\\brain_tumor_detection\\Brain_tumor\n"
     ]
    }
   ],
   "source": [
    "import os \n",
    "os.getcwd()\n",
    "os.chdir(r'C:\\Users\\YAKUB\\Desktop\\brain_tumor_detection\\Brain_tumor')\n",
    "print(os.getcwd())"
   ]
  },
  {
   "cell_type": "code",
   "execution_count": 6,
   "metadata": {},
   "outputs": [
    {
     "name": "stdout",
     "output_type": "stream",
     "text": [
      "Found 22 images belonging to 2 classes.\n",
      "Found 7 images belonging to 2 classes.\n"
     ]
    }
   ],
   "source": [
    "training_set = train_datagen.flow_from_directory(r'C:\\Users\\YAKUB\\Desktop\\projects\\deeeplearning-project\\Brain_tumor\\train',\n",
    "                                                 target_size = (64, 64),\n",
    "                                                 batch_size = 32,\n",
    "                                                 class_mode = 'binary')\n",
    "\n",
    "test_set = test_datagen.flow_from_directory(r'C:\\Users\\YAKUB\\Desktop\\projects\\deeeplearning-project\\Brain_tumor\\test',\n",
    "                                            target_size = (64, 64),\n",
    "                                            batch_size = 32,\n",
    "                                            class_mode = 'binary')\n"
   ]
  },
  {
   "cell_type": "code",
   "execution_count": 7,
   "metadata": {},
   "outputs": [
    {
     "name": "stdout",
     "output_type": "stream",
     "text": [
      "Epoch 1/100\n",
      "1/1 [==============================] - 6s 6s/step - loss: 0.6763 - accuracy: 0.5909 - val_loss: 0.7527 - val_accuracy: 0.1429\n",
      "Epoch 2/100\n",
      "1/1 [==============================] - 1s 507ms/step - loss: 0.6308 - accuracy: 0.7273 - val_loss: 0.9074 - val_accuracy: 0.5714\n",
      "Epoch 3/100\n",
      "1/1 [==============================] - 0s 417ms/step - loss: 0.9352 - accuracy: 0.5909 - val_loss: 0.9027 - val_accuracy: 0.2857\n",
      "Epoch 4/100\n",
      "1/1 [==============================] - 0s 424ms/step - loss: 0.6780 - accuracy: 0.4545 - val_loss: 0.9220 - val_accuracy: 0.2857\n",
      "Epoch 5/100\n",
      "1/1 [==============================] - 0s 399ms/step - loss: 0.6959 - accuracy: 0.5000 - val_loss: 0.7964 - val_accuracy: 0.4286\n",
      "Epoch 6/100\n",
      "1/1 [==============================] - 0s 379ms/step - loss: 0.5731 - accuracy: 0.6818 - val_loss: 0.7309 - val_accuracy: 0.4286\n",
      "Epoch 7/100\n",
      "1/1 [==============================] - 0s 430ms/step - loss: 0.5731 - accuracy: 0.7273 - val_loss: 0.7265 - val_accuracy: 0.5714\n",
      "Epoch 8/100\n",
      "1/1 [==============================] - 0s 428ms/step - loss: 0.5658 - accuracy: 0.7273 - val_loss: 0.7339 - val_accuracy: 0.5714\n",
      "Epoch 9/100\n",
      "1/1 [==============================] - 0s 423ms/step - loss: 0.5552 - accuracy: 0.7727 - val_loss: 0.7460 - val_accuracy: 0.4286\n",
      "Epoch 10/100\n",
      "1/1 [==============================] - 0s 418ms/step - loss: 0.5635 - accuracy: 0.6818 - val_loss: 0.7920 - val_accuracy: 0.4286\n",
      "Epoch 11/100\n",
      "1/1 [==============================] - 0s 493ms/step - loss: 0.5699 - accuracy: 0.7727 - val_loss: 0.8783 - val_accuracy: 0.4286\n",
      "Epoch 12/100\n",
      "1/1 [==============================] - 0s 489ms/step - loss: 0.5216 - accuracy: 0.6818 - val_loss: 0.9862 - val_accuracy: 0.2857\n",
      "Epoch 13/100\n",
      "1/1 [==============================] - 0s 451ms/step - loss: 0.5386 - accuracy: 0.7273 - val_loss: 0.9743 - val_accuracy: 0.4286\n",
      "Epoch 14/100\n",
      "1/1 [==============================] - 0s 413ms/step - loss: 0.5548 - accuracy: 0.7273 - val_loss: 0.8938 - val_accuracy: 0.5714\n",
      "Epoch 15/100\n",
      "1/1 [==============================] - 0s 399ms/step - loss: 0.4705 - accuracy: 0.7727 - val_loss: 0.8973 - val_accuracy: 0.4286\n",
      "Epoch 16/100\n",
      "1/1 [==============================] - 0s 393ms/step - loss: 0.5766 - accuracy: 0.7273 - val_loss: 0.9564 - val_accuracy: 0.5714\n",
      "Epoch 17/100\n",
      "1/1 [==============================] - 0s 346ms/step - loss: 0.4668 - accuracy: 0.7273 - val_loss: 1.0954 - val_accuracy: 0.4286\n",
      "Epoch 18/100\n",
      "1/1 [==============================] - 0s 345ms/step - loss: 0.4762 - accuracy: 0.8182 - val_loss: 1.1745 - val_accuracy: 0.2857\n",
      "Epoch 19/100\n",
      "1/1 [==============================] - 0s 361ms/step - loss: 0.4569 - accuracy: 0.8182 - val_loss: 1.1563 - val_accuracy: 0.2857\n",
      "Epoch 20/100\n",
      "1/1 [==============================] - 0s 325ms/step - loss: 0.4231 - accuracy: 0.8182 - val_loss: 1.0579 - val_accuracy: 0.4286\n",
      "Epoch 21/100\n",
      "1/1 [==============================] - 0s 345ms/step - loss: 0.3844 - accuracy: 0.8182 - val_loss: 0.9877 - val_accuracy: 0.5714\n",
      "Epoch 22/100\n",
      "1/1 [==============================] - 0s 350ms/step - loss: 0.3789 - accuracy: 0.8182 - val_loss: 0.9837 - val_accuracy: 0.4286\n",
      "Epoch 23/100\n",
      "1/1 [==============================] - 0s 344ms/step - loss: 0.4078 - accuracy: 0.7273 - val_loss: 1.0202 - val_accuracy: 0.4286\n",
      "Epoch 24/100\n",
      "1/1 [==============================] - 0s 330ms/step - loss: 0.4133 - accuracy: 0.7273 - val_loss: 1.1046 - val_accuracy: 0.4286\n",
      "Epoch 25/100\n",
      "1/1 [==============================] - 0s 346ms/step - loss: 0.3475 - accuracy: 0.8636 - val_loss: 1.2155 - val_accuracy: 0.4286\n",
      "Epoch 26/100\n",
      "1/1 [==============================] - 0s 338ms/step - loss: 0.4250 - accuracy: 0.7727 - val_loss: 1.2672 - val_accuracy: 0.4286\n",
      "Epoch 27/100\n",
      "1/1 [==============================] - 0s 345ms/step - loss: 0.3352 - accuracy: 0.9091 - val_loss: 1.2783 - val_accuracy: 0.4286\n",
      "Epoch 28/100\n",
      "1/1 [==============================] - 0s 352ms/step - loss: 0.2788 - accuracy: 0.8636 - val_loss: 1.2696 - val_accuracy: 0.4286\n",
      "Epoch 29/100\n",
      "1/1 [==============================] - 0s 441ms/step - loss: 0.2366 - accuracy: 0.9545 - val_loss: 1.3532 - val_accuracy: 0.4286\n",
      "Epoch 30/100\n",
      "1/1 [==============================] - 0s 450ms/step - loss: 0.3103 - accuracy: 0.8182 - val_loss: 1.4588 - val_accuracy: 0.4286\n",
      "Epoch 31/100\n",
      "1/1 [==============================] - 0s 337ms/step - loss: 0.2631 - accuracy: 0.9091 - val_loss: 1.5043 - val_accuracy: 0.4286\n",
      "Epoch 32/100\n",
      "1/1 [==============================] - 0s 452ms/step - loss: 0.2712 - accuracy: 0.9091 - val_loss: 1.4932 - val_accuracy: 0.4286\n",
      "Epoch 33/100\n",
      "1/1 [==============================] - 0s 469ms/step - loss: 0.2636 - accuracy: 0.9545 - val_loss: 1.4934 - val_accuracy: 0.5714\n",
      "Epoch 34/100\n",
      "1/1 [==============================] - 1s 539ms/step - loss: 0.2060 - accuracy: 0.9545 - val_loss: 1.5329 - val_accuracy: 0.4286\n",
      "Epoch 35/100\n",
      "1/1 [==============================] - 0s 333ms/step - loss: 0.2342 - accuracy: 0.9091 - val_loss: 1.5792 - val_accuracy: 0.4286\n",
      "Epoch 36/100\n",
      "1/1 [==============================] - 0s 469ms/step - loss: 0.2023 - accuracy: 1.0000 - val_loss: 1.5728 - val_accuracy: 0.4286\n",
      "Epoch 37/100\n",
      "1/1 [==============================] - 0s 404ms/step - loss: 0.1979 - accuracy: 0.9091 - val_loss: 1.6036 - val_accuracy: 0.4286\n",
      "Epoch 38/100\n",
      "1/1 [==============================] - 0s 483ms/step - loss: 0.1949 - accuracy: 0.9545 - val_loss: 1.6127 - val_accuracy: 0.4286\n",
      "Epoch 39/100\n",
      "1/1 [==============================] - 0s 383ms/step - loss: 0.1758 - accuracy: 0.9545 - val_loss: 1.5032 - val_accuracy: 0.5714\n",
      "Epoch 40/100\n",
      "1/1 [==============================] - 1s 624ms/step - loss: 0.2199 - accuracy: 0.9091 - val_loss: 1.5106 - val_accuracy: 0.5714\n",
      "Epoch 41/100\n",
      "1/1 [==============================] - 1s 655ms/step - loss: 0.2130 - accuracy: 0.9091 - val_loss: 1.5604 - val_accuracy: 0.4286\n",
      "Epoch 42/100\n",
      "1/1 [==============================] - 1s 519ms/step - loss: 0.1156 - accuracy: 1.0000 - val_loss: 1.7088 - val_accuracy: 0.4286\n",
      "Epoch 43/100\n",
      "1/1 [==============================] - 0s 345ms/step - loss: 0.1355 - accuracy: 1.0000 - val_loss: 1.6852 - val_accuracy: 0.4286\n",
      "Epoch 44/100\n",
      "1/1 [==============================] - 0s 338ms/step - loss: 0.2401 - accuracy: 0.9091 - val_loss: 1.6156 - val_accuracy: 0.2857\n",
      "Epoch 45/100\n",
      "1/1 [==============================] - 0s 351ms/step - loss: 0.1078 - accuracy: 0.9545 - val_loss: 1.5864 - val_accuracy: 0.5714\n",
      "Epoch 46/100\n",
      "1/1 [==============================] - 0s 327ms/step - loss: 0.3243 - accuracy: 0.8182 - val_loss: 1.9368 - val_accuracy: 0.4286\n",
      "Epoch 47/100\n",
      "1/1 [==============================] - 0s 344ms/step - loss: 0.1747 - accuracy: 0.9091 - val_loss: 2.4118 - val_accuracy: 0.2857\n",
      "Epoch 48/100\n",
      "1/1 [==============================] - 0s 319ms/step - loss: 0.3603 - accuracy: 0.7727 - val_loss: 2.1803 - val_accuracy: 0.4286\n",
      "Epoch 49/100\n",
      "1/1 [==============================] - 0s 344ms/step - loss: 0.1819 - accuracy: 0.9545 - val_loss: 1.8278 - val_accuracy: 0.5714\n",
      "Epoch 50/100\n",
      "1/1 [==============================] - 0s 433ms/step - loss: 0.1737 - accuracy: 0.9545 - val_loss: 1.8089 - val_accuracy: 0.4286\n",
      "Epoch 51/100\n",
      "1/1 [==============================] - 0s 391ms/step - loss: 0.1732 - accuracy: 0.9091 - val_loss: 1.8900 - val_accuracy: 0.5714\n",
      "Epoch 52/100\n",
      "1/1 [==============================] - 1s 538ms/step - loss: 0.1395 - accuracy: 0.9545 - val_loss: 2.1136 - val_accuracy: 0.5714\n",
      "Epoch 53/100\n",
      "1/1 [==============================] - 0s 384ms/step - loss: 0.1080 - accuracy: 0.9545 - val_loss: 2.4447 - val_accuracy: 0.4286\n",
      "Epoch 54/100\n",
      "1/1 [==============================] - 1s 532ms/step - loss: 0.0694 - accuracy: 1.0000 - val_loss: 2.6818 - val_accuracy: 0.4286\n",
      "Epoch 55/100\n",
      "1/1 [==============================] - 0s 472ms/step - loss: 0.1210 - accuracy: 0.9545 - val_loss: 2.7698 - val_accuracy: 0.4286\n",
      "Epoch 56/100\n",
      "1/1 [==============================] - 0s 493ms/step - loss: 0.0928 - accuracy: 1.0000 - val_loss: 2.8417 - val_accuracy: 0.4286\n",
      "Epoch 57/100\n",
      "1/1 [==============================] - 0s 428ms/step - loss: 0.1055 - accuracy: 1.0000 - val_loss: 2.7966 - val_accuracy: 0.5714\n",
      "Epoch 58/100\n",
      "1/1 [==============================] - 0s 390ms/step - loss: 0.2119 - accuracy: 0.9545 - val_loss: 2.8000 - val_accuracy: 0.5714\n"
     ]
    },
    {
     "name": "stdout",
     "output_type": "stream",
     "text": [
      "Epoch 59/100\n",
      "1/1 [==============================] - 0s 412ms/step - loss: 0.0666 - accuracy: 1.0000 - val_loss: 2.8851 - val_accuracy: 0.5714\n",
      "Epoch 60/100\n",
      "1/1 [==============================] - 0s 336ms/step - loss: 0.0568 - accuracy: 1.0000 - val_loss: 3.0232 - val_accuracy: 0.4286\n",
      "Epoch 61/100\n",
      "1/1 [==============================] - 0s 440ms/step - loss: 0.2091 - accuracy: 0.9091 - val_loss: 3.0029 - val_accuracy: 0.4286\n",
      "Epoch 62/100\n",
      "1/1 [==============================] - 0s 316ms/step - loss: 0.0487 - accuracy: 1.0000 - val_loss: 3.0086 - val_accuracy: 0.4286\n",
      "Epoch 63/100\n",
      "1/1 [==============================] - 0s 466ms/step - loss: 0.1634 - accuracy: 0.9091 - val_loss: 3.0000 - val_accuracy: 0.4286\n",
      "Epoch 64/100\n",
      "1/1 [==============================] - 0s 328ms/step - loss: 0.0907 - accuracy: 0.9545 - val_loss: 2.9124 - val_accuracy: 0.4286\n",
      "Epoch 65/100\n",
      "1/1 [==============================] - 0s 321ms/step - loss: 0.1027 - accuracy: 0.9545 - val_loss: 2.7104 - val_accuracy: 0.4286\n",
      "Epoch 66/100\n",
      "1/1 [==============================] - 0s 345ms/step - loss: 0.0283 - accuracy: 1.0000 - val_loss: 2.5667 - val_accuracy: 0.4286\n",
      "Epoch 67/100\n",
      "1/1 [==============================] - 0s 326ms/step - loss: 0.1739 - accuracy: 0.9091 - val_loss: 2.4557 - val_accuracy: 0.4286\n",
      "Epoch 68/100\n",
      "1/1 [==============================] - 0s 357ms/step - loss: 0.0613 - accuracy: 1.0000 - val_loss: 2.4194 - val_accuracy: 0.4286\n",
      "Epoch 69/100\n",
      "1/1 [==============================] - 0s 438ms/step - loss: 0.1903 - accuracy: 0.9091 - val_loss: 2.3560 - val_accuracy: 0.2857\n",
      "Epoch 70/100\n",
      "1/1 [==============================] - 0s 329ms/step - loss: 0.0656 - accuracy: 0.9545 - val_loss: 2.2519 - val_accuracy: 0.2857\n",
      "Epoch 71/100\n",
      "1/1 [==============================] - 0s 427ms/step - loss: 0.1235 - accuracy: 0.9545 - val_loss: 2.1050 - val_accuracy: 0.2857\n",
      "Epoch 72/100\n",
      "1/1 [==============================] - 0s 435ms/step - loss: 0.1290 - accuracy: 0.9091 - val_loss: 2.0523 - val_accuracy: 0.2857\n",
      "Epoch 73/100\n",
      "1/1 [==============================] - 0s 442ms/step - loss: 0.0626 - accuracy: 1.0000 - val_loss: 2.0271 - val_accuracy: 0.2857\n",
      "Epoch 74/100\n",
      "1/1 [==============================] - 0s 397ms/step - loss: 0.0790 - accuracy: 1.0000 - val_loss: 2.0434 - val_accuracy: 0.2857\n",
      "Epoch 75/100\n",
      "1/1 [==============================] - 0s 367ms/step - loss: 0.0564 - accuracy: 0.9545 - val_loss: 2.1244 - val_accuracy: 0.2857\n",
      "Epoch 76/100\n",
      "1/1 [==============================] - 0s 400ms/step - loss: 0.0453 - accuracy: 1.0000 - val_loss: 2.1710 - val_accuracy: 0.2857\n",
      "Epoch 77/100\n",
      "1/1 [==============================] - 0s 317ms/step - loss: 0.1272 - accuracy: 0.9545 - val_loss: 2.1922 - val_accuracy: 0.2857\n",
      "Epoch 78/100\n",
      "1/1 [==============================] - 0s 320ms/step - loss: 0.1424 - accuracy: 0.9091 - val_loss: 2.2266 - val_accuracy: 0.2857\n",
      "Epoch 79/100\n",
      "1/1 [==============================] - 0s 311ms/step - loss: 0.1795 - accuracy: 0.8636 - val_loss: 2.2442 - val_accuracy: 0.2857\n",
      "Epoch 80/100\n",
      "1/1 [==============================] - 0s 313ms/step - loss: 0.1888 - accuracy: 0.9091 - val_loss: 2.3808 - val_accuracy: 0.4286\n",
      "Epoch 81/100\n",
      "1/1 [==============================] - 0s 312ms/step - loss: 0.1131 - accuracy: 0.9545 - val_loss: 2.6936 - val_accuracy: 0.4286\n",
      "Epoch 82/100\n",
      "1/1 [==============================] - 0s 322ms/step - loss: 0.1750 - accuracy: 0.9545 - val_loss: 3.0201 - val_accuracy: 0.4286\n",
      "Epoch 83/100\n",
      "1/1 [==============================] - 0s 313ms/step - loss: 0.0873 - accuracy: 0.9545 - val_loss: 3.1842 - val_accuracy: 0.4286\n",
      "Epoch 84/100\n",
      "1/1 [==============================] - 0s 315ms/step - loss: 0.0921 - accuracy: 0.9545 - val_loss: 3.1241 - val_accuracy: 0.4286\n",
      "Epoch 85/100\n",
      "1/1 [==============================] - 0s 314ms/step - loss: 0.1343 - accuracy: 0.9091 - val_loss: 2.9760 - val_accuracy: 0.4286\n",
      "Epoch 86/100\n",
      "1/1 [==============================] - 0s 303ms/step - loss: 0.1420 - accuracy: 0.9545 - val_loss: 2.9498 - val_accuracy: 0.4286\n",
      "Epoch 87/100\n",
      "1/1 [==============================] - 0s 318ms/step - loss: 0.0278 - accuracy: 1.0000 - val_loss: 2.9984 - val_accuracy: 0.4286\n",
      "Epoch 88/100\n",
      "1/1 [==============================] - 0s 304ms/step - loss: 0.0282 - accuracy: 1.0000 - val_loss: 3.0722 - val_accuracy: 0.4286\n",
      "Epoch 89/100\n",
      "1/1 [==============================] - 0s 310ms/step - loss: 0.0883 - accuracy: 0.9545 - val_loss: 3.2901 - val_accuracy: 0.4286\n",
      "Epoch 90/100\n",
      "1/1 [==============================] - 0s 315ms/step - loss: 0.0449 - accuracy: 1.0000 - val_loss: 3.3545 - val_accuracy: 0.4286\n",
      "Epoch 91/100\n",
      "1/1 [==============================] - 0s 313ms/step - loss: 0.0752 - accuracy: 1.0000 - val_loss: 3.4204 - val_accuracy: 0.4286\n",
      "Epoch 92/100\n",
      "1/1 [==============================] - 0s 318ms/step - loss: 0.0852 - accuracy: 0.9545 - val_loss: 3.3187 - val_accuracy: 0.4286\n",
      "Epoch 93/100\n",
      "1/1 [==============================] - 0s 316ms/step - loss: 0.0662 - accuracy: 0.9545 - val_loss: 3.3223 - val_accuracy: 0.4286\n",
      "Epoch 94/100\n",
      "1/1 [==============================] - 0s 381ms/step - loss: 0.0455 - accuracy: 1.0000 - val_loss: 3.2319 - val_accuracy: 0.2857\n",
      "Epoch 95/100\n",
      "1/1 [==============================] - 0s 408ms/step - loss: 0.0947 - accuracy: 0.9545 - val_loss: 3.2689 - val_accuracy: 0.2857\n",
      "Epoch 96/100\n",
      "1/1 [==============================] - 0s 392ms/step - loss: 0.1216 - accuracy: 0.9545 - val_loss: 3.4067 - val_accuracy: 0.4286\n",
      "Epoch 97/100\n",
      "1/1 [==============================] - 0s 393ms/step - loss: 0.0617 - accuracy: 0.9545 - val_loss: 3.6674 - val_accuracy: 0.4286\n",
      "Epoch 98/100\n",
      "1/1 [==============================] - 0s 363ms/step - loss: 0.0864 - accuracy: 0.9545 - val_loss: 3.7955 - val_accuracy: 0.4286\n",
      "Epoch 99/100\n",
      "1/1 [==============================] - 0s 324ms/step - loss: 0.0592 - accuracy: 0.9545 - val_loss: 3.6341 - val_accuracy: 0.4286\n",
      "Epoch 100/100\n",
      "1/1 [==============================] - 0s 377ms/step - loss: 0.0579 - accuracy: 1.0000 - val_loss: 3.2224 - val_accuracy: 0.2857\n"
     ]
    },
    {
     "data": {
      "text/plain": [
       "<keras.callbacks.callbacks.History at 0x1f83a34bec8>"
      ]
     },
     "execution_count": 7,
     "metadata": {},
     "output_type": "execute_result"
    }
   ],
   "source": [
    "classifier.fit_generator(training_set, steps_per_epoch=None, epochs=100, verbose=1, callbacks=None, validation_data=test_set, validation_steps=None, class_weight=None, max_queue_size=10, workers=1, use_multiprocessing=False, shuffle=True, initial_epoch=0)\n",
    "     "
   ]
  },
  {
   "cell_type": "code",
   "execution_count": 8,
   "metadata": {},
   "outputs": [
    {
     "data": {
      "image/png": "[encoded data removed]",
      "text/plain": [
       "<PIL.Image.Image image mode=RGB size=64x64 at 0x1F837C992C8>"
      ]
     },
     "execution_count": 8,
     "metadata": {},
     "output_type": "execute_result"
    }
   ],
   "source": [
    "import numpy as np\n",
    "from keras.preprocessing import image\n",
    "test_image = image.load_img(r'C:\\Users\\YAKUB\\Desktop\\brain_tumor_detection\\TestImages\\brain-tumors-fig2_large.jpg', target_size = (64, 64))\n",
    "test_image"
   ]
  },
  {
   "cell_type": "code",
   "execution_count": 9,
   "metadata": {},
   "outputs": [
    {
     "data": {
      "text/plain": [
       "array([[[[57., 57., 57.],\n",
       "         [11., 11., 11.],\n",
       "         [11., 11., 11.],\n",
       "         ...,\n",
       "         [11., 11., 11.],\n",
       "         [11., 11., 11.],\n",
       "         [10., 10., 10.]],\n",
       "\n",
       "        [[14., 14., 14.],\n",
       "         [14., 14., 14.],\n",
       "         [11., 11., 11.],\n",
       "         ...,\n",
       "         [10., 10., 10.],\n",
       "         [10., 10., 10.],\n",
       "         [ 9.,  9.,  9.]],\n",
       "\n",
       "        [[12., 12., 12.],\n",
       "         [10., 10., 10.],\n",
       "         [11., 11., 11.],\n",
       "         ...,\n",
       "         [11., 11., 11.],\n",
       "         [11., 11., 11.],\n",
       "         [11., 11., 11.]],\n",
       "\n",
       "        ...,\n",
       "\n",
       "        [[63., 63., 63.],\n",
       "         [60., 60., 60.],\n",
       "         [93., 93., 93.],\n",
       "         ...,\n",
       "         [11., 11., 11.],\n",
       "         [11., 11., 11.],\n",
       "         [11., 11., 11.]],\n",
       "\n",
       "        [[23., 23., 23.],\n",
       "         [ 5.,  5.,  5.],\n",
       "         [ 8.,  8.,  8.],\n",
       "         ...,\n",
       "         [11., 11., 11.],\n",
       "         [11., 11., 11.],\n",
       "         [11., 11., 11.]],\n",
       "\n",
       "        [[13., 13., 13.],\n",
       "         [13., 13., 13.],\n",
       "         [15., 15., 15.],\n",
       "         ...,\n",
       "         [ 9.,  9.,  9.],\n",
       "         [ 9.,  9.,  9.],\n",
       "         [ 9.,  9.,  9.]]]], dtype=float32)"
      ]
     },
     "execution_count": 9,
     "metadata": {},
     "output_type": "execute_result"
    }
   ],
   "source": [
    "test_image = image.img_to_array(test_image)\n",
    "\n",
    "test_image = np.expand_dims(test_image, axis = 0)\n",
    "test_image"
   ]
  },
  {
   "cell_type": "code",
   "execution_count": 10,
   "metadata": {},
   "outputs": [
    {
     "data": {
      "text/plain": [
       "array([[1.]], dtype=float32)"
      ]
     },
     "execution_count": 10,
     "metadata": {},
     "output_type": "execute_result"
    }
   ],
   "source": [
    "result = classifier.predict(test_image)\n",
    "result"
   ]
  },
  {
   "cell_type": "code",
   "execution_count": 11,
   "metadata": {},
   "outputs": [
    {
     "data": {
      "text/plain": [
       "{'Benign': 0, 'Malignant': 1}"
      ]
     },
     "execution_count": 11,
     "metadata": {},
     "output_type": "execute_result"
    }
   ],
   "source": [
    "training_set.class_indices"
   ]
  },
  {
   "cell_type": "code",
   "execution_count": 13,
   "metadata": {},
   "outputs": [
    {
     "name": "stdout",
     "output_type": "stream",
     "text": [
      "Detected tumor type is Malignent\n"
     ]
    }
   ],
   "source": [
    "if result[0][0] == 0:\n",
    "    prediction = 'Benign'\n",
    "else:\n",
    "    prediction = 'Malignent'\n",
    "print(\"Detected tumor type is %s\"%prediction)\n"
   ]
  },
  {
   "cell_type": "code",
   "execution_count": null,
   "metadata": {},
   "outputs": [],
   "source": []
  }
 ],
 "metadata": {
  "kernelspec": {
   "display_name": "Python 3",
   "language": "python",
   "name": "python3"
  },
  "language_info": {
   "codemirror_mode": {
    "name": "ipython",
    "version": 3
   },
   "file_extension": ".py",
   "mimetype": "text/x-python",
   "name": "python",
   "nbconvert_exporter": "python",
   "pygments_lexer": "ipython3",
   "version": "3.7.4"
  }
 },
 "nbformat": 4,
 "nbformat_minor": 2
}
